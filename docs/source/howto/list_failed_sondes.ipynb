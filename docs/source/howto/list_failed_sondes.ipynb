{
 "cells": [
  {
   "attachments": {},
   "cell_type": "markdown",
   "metadata": {},
   "source": [
    "# Get sondes that failed to detect a launch"
   ]
  },
  {
   "cell_type": "markdown",
   "metadata": {},
   "source": [
    "<div class=\"alert alert-block alert-info\">\n",
    " This is probably outdated \n",
    "</div>\n"
   ]
  },
  {
   "cell_type": "markdown",
   "metadata": {},
   "source": [
    "Let's first import the needed modules."
   ]
  },
  {
   "cell_type": "code",
   "execution_count": 1,
   "metadata": {},
   "outputs": [],
   "source": [
    "from halodrops.processor import Sonde\n",
    "from halodrops.helper import paths, rawreader as rr"
   ]
  },
  {
   "attachments": {},
   "cell_type": "markdown",
   "metadata": {},
   "source": [
    "Then, we provide the path to where we have the A-files. Here the example is for all sondes from one flight. Our objective is to find out how many sondes failed to detect a launch and list their serial IDs."
   ]
  },
  {
   "attachments": {},
   "cell_type": "markdown",
   "metadata": {},
   "source": [
    "First, we provide the paths to where we store all our campaign data as `data_directory`. Next, we provide the `flight_id` in the format of `YYYYMMDD`. "
   ]
  },
  {
   "cell_type": "code",
   "execution_count": 2,
   "metadata": {},
   "outputs": [],
   "source": [
    "# Main directory for campaign data\n",
    "data_directory = '../../../example_data'\n",
    "\n",
    "# Flight ID in YYYYMMDD format\n",
    "flight_id = '20200119'"
   ]
  },
  {
   "attachments": {},
   "cell_type": "markdown",
   "metadata": {},
   "source": [
    "With the help of the `Paths` class, we can then create a bunch of useful paths to help in various stages of data handling. In our example here, we need to look at all A-files from this flight to get the launch detect indicator. Thus, we will ask the instance for a list of paths to all A-files in the flight."
   ]
  },
  {
   "cell_type": "code",
   "execution_count": 3,
   "metadata": {},
   "outputs": [],
   "source": [
    "# Instantiate paths object\n",
    "flight_instance = paths.Paths(data_directory, flight_id)\n",
    "\n",
    "# Get paths to all A-files for a flight\n",
    "afiles = flight_instance.get_all_afiles()"
   ]
  },
  {
   "attachments": {},
   "cell_type": "markdown",
   "metadata": {},
   "source": [
    "The `Sonde` object has useful attributes that help identify several features useful during data-handling always corresponding to its unique `serial_id`. Here, we will assign the `launch_detect` attributes to quickly help us get a list of all sondes that failed to detect a launch during this flight."
   ]
  },
  {
   "cell_type": "code",
   "execution_count": 4,
   "metadata": {},
   "outputs": [],
   "source": [
    "# Create an empty dictionary for instances of all sondes during the flight\n",
    "Sondes = {} \n",
    "\n",
    "for a_file in afiles:\n",
    "    # Get launch detect boolean\n",
    "    launch_detect = rr.check_launch_detect_in_afile(a_file) \n",
    "\n",
    "    # Get sonde serial ID\n",
    "    sonde_id = rr.get_sonde_id(a_file) \n",
    "\n",
    "    # Get sonde's launch time\n",
    "    launch_time = rr.get_launch_time(a_file)\n",
    "\n",
    "    # Instantiate sonde\n",
    "    Sondes[sonde_id] = Sonde(sonde_id,launch_time=launch_time)\n",
    "    \n",
    "    # Add `launch_detect` attribute\n",
    "    Sondes[sonde_id].add_launch_detect(launch_detect)"
   ]
  },
  {
   "attachments": {},
   "cell_type": "markdown",
   "metadata": {},
   "source": [
    "In fact, what we did above constitutes a core part of the workflow for batch-processing sondes. The function \n",
    "[populate_sonde_instance](../apidocs/halodrops/halodrops.helper.paths.md#API) essentially does the same as above and populates more attributes to the instances."
   ]
  },
  {
   "attachments": {},
   "cell_type": "markdown",
   "metadata": {},
   "source": [
    "Back to our task! Now, we can simply print out relevant details of all sondes that failed to detect a launch."
   ]
  },
  {
   "cell_type": "code",
   "execution_count": 5,
   "metadata": {},
   "outputs": [
    {
     "name": "stdout",
     "output_type": "stream",
     "text": [
      "ID = 213450447; Time = 2022-04-01T10:12:59.000000; Launch Detected? = False\n",
      "ID = 213341449; Time = 2022-04-01T09:34:02.000000; Launch Detected? = False\n",
      "ID = 213450599; Time = 2022-04-01T12:57:10.000000; Launch Detected? = False\n",
      "ID = 213010063; Time = 2022-04-01T10:16:34.000000; Launch Detected? = False\n",
      "ID = 210440276; Time = 2022-04-01T12:45:41.000000; Launch Detected? = False\n"
     ]
    }
   ],
   "source": [
    "for _,item in Sondes.items():\n",
    "    if not item.launch_detect:\n",
    "        print(f'ID = {item.serial_id}; Time = {item.launch_time}; Launch Detected? = {item.launch_detect}')"
   ]
  }
 ],
 "metadata": {
  "kernelspec": {
   "display_name": "Python 3",
   "language": "python",
   "name": "python3"
  },
  "language_info": {
   "codemirror_mode": {
    "name": "ipython",
    "version": 3
   },
   "file_extension": ".py",
   "mimetype": "text/x-python",
   "name": "python",
   "nbconvert_exporter": "python",
   "pygments_lexer": "ipython3",
   "version": "3.10.9"
  },
  "orig_nbformat": 4,
  "vscode": {
   "interpreter": {
    "hash": "7a06bfeaf5ae680ded6e58fec9a14a787c2feac6f57d2fadb40eeb83a07ca6cd"
   }
  }
 },
 "nbformat": 4,
 "nbformat_minor": 2
}
