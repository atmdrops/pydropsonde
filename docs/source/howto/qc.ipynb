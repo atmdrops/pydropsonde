{
 "cells": [
  {
   "attachments": {},
   "cell_type": "markdown",
   "metadata": {},
   "source": [
    "Let's see how we can go about checking the quality of the data in ASPEN-processed files."
   ]
  },
  {
   "attachments": {},
   "cell_type": "markdown",
   "metadata": {},
   "source": [
    "First we import the necessary modules"
   ]
  },
  {
   "cell_type": "code",
   "execution_count": 4,
   "metadata": {},
   "outputs": [],
   "source": [
    "from halodrops import sonde\n",
    "from halodrops.helper import paths\n",
    "from halodrops.qc import profile"
   ]
  },
  {
   "attachments": {},
   "cell_type": "markdown",
   "metadata": {},
   "source": [
    "We will go about checking the QC for all ASPEN-processed files from the HALO flight on 1st April, 2022. First, we get a dictionary of all sondes in the flight. It will be called `Sondes`, its keys will be sonde-IDs and their values will be corresponding instances of the `Sonde` class."
   ]
  },
  {
   "cell_type": "code",
   "execution_count": 5,
   "metadata": {},
   "outputs": [
    {
     "name": "stdout",
     "output_type": "stream",
     "text": [
      "The post-ASPEN file for 213450447 with filename D20220401_101259QC.nc does not exist. Therefore, I am not setting the `postaspenfile` attribute.\n",
      "I didn't find the `postaspenfile` attribute, therefore I am not storing the xarray dataset as an attribute\n",
      "The post-ASPEN file for 213341449 with filename D20220401_093402QC.nc does not exist. Therefore, I am not setting the `postaspenfile` attribute.\n",
      "I didn't find the `postaspenfile` attribute, therefore I am not storing the xarray dataset as an attribute\n",
      "The post-ASPEN file for 213450599 with filename D20220401_125710QC.nc does not exist. Therefore, I am not setting the `postaspenfile` attribute.\n",
      "I didn't find the `postaspenfile` attribute, therefore I am not storing the xarray dataset as an attribute\n",
      "The post-ASPEN file for 213010063 with filename D20220401_101634QC.nc does not exist. Therefore, I am not setting the `postaspenfile` attribute.\n",
      "I didn't find the `postaspenfile` attribute, therefore I am not storing the xarray dataset as an attribute\n",
      "The post-ASPEN file for 210440276 with filename D20220401_124541QC.nc does not exist. Therefore, I am not setting the `postaspenfile` attribute.\n",
      "I didn't find the `postaspenfile` attribute, therefore I am not storing the xarray dataset as an attribute\n"
     ]
    }
   ],
   "source": [
    "data_directory = '/Users/geet/Documents/Repositories/Owned/halodrops/sample/'\n",
    "flight_id = '20220401'\n",
    "\n",
    "# Instantiate paths object\n",
    "f0401 = paths.Paths(data_directory,flight_id)\n",
    "# Create Sondes dictionary\n",
    "Sondes = f0401.populate_sonde_instances()"
   ]
  },
  {
   "attachments": {},
   "cell_type": "markdown",
   "metadata": {},
   "source": [
    "Let's start by looking at data from one sonde from the flight. "
   ]
  },
  {
   "cell_type": "code",
   "execution_count": 6,
   "metadata": {},
   "outputs": [],
   "source": [
    "ds = Sondes['210430717'].aspen_ds"
   ]
  },
  {
   "attachments": {},
   "cell_type": "markdown",
   "metadata": {},
   "source": [
    "First, we'll check the profile fullness of the `u_wind` variable.\n",
    "\n",
    "The profile fullness (or profile coverage) is the fraction of timestamps that have data. Therefore, a variable that provides measurements at every timestamp (i.e. timestamps are the coordinates of the independent time dimension) would have a value of 1."
   ]
  },
  {
   "cell_type": "code",
   "execution_count": 7,
   "metadata": {},
   "outputs": [
    {
     "name": "stdout",
     "output_type": "stream",
     "text": [
      "0.93: Profile coverage of u_wind\n"
     ]
    }
   ],
   "source": [
    "var = 'u_wind'\n",
    "print(f'{profile.fullness(ds,var):.02f}: Profile coverage of {var}')"
   ]
  },
  {
   "attachments": {},
   "cell_type": "markdown",
   "metadata": {},
   "source": [
    "That's nice. This means that 93% of the timestamps in the dataset have a non-NaN measurement of `u_wind` associated with them. Now, let's check for `tdry`, which is the dry air temperature."
   ]
  },
  {
   "cell_type": "code",
   "execution_count": 8,
   "metadata": {},
   "outputs": [
    {
     "name": "stdout",
     "output_type": "stream",
     "text": [
      "0.48: Profile coverage of tdry\n"
     ]
    }
   ],
   "source": [
    "var = 'tdry'\n",
    "print(f'{profile.fullness(ds,var):.02f}: Profile coverage of {var}')"
   ]
  },
  {
   "attachments": {},
   "cell_type": "markdown",
   "metadata": {},
   "source": [
    "Oof! That looks bad. That's almost half of the coverage for `u_wind`. \n",
    "\n",
    "But, there's a catch. The temperature sensor in the RD-41 sonde has a sampling frequency of 2 Hz, whereas the GPS sensor (from where the horizontal winds are derived) has a sampling frequency of 4 Hz. The time-coordinates are the same for both variables and are spaced every 0.25 seconds, which aligns exactly with the GPS sensor frequency. Therefore, it is a bit unfair to compare the fraction of temperature values against all time coordinates, given that it is not supposed to be measuring so frequently. A better way would be to compare the profile-coverage weighted for the sampling frequency. \n",
    "\n",
    "So, if the temperature sensor has to measure at every other time-coordinate, then it's profile-coverage should be taken only for half the time-coordinates, or simply multiplied by two. This is exactly what the [weighted_fullness](../apidocs/halodrops/halodrops.qc.profile.md#halodrops.qc.profile.weighted_fullness) function does."
   ]
  },
  {
   "cell_type": "code",
   "execution_count": 9,
   "metadata": {},
   "outputs": [
    {
     "name": "stdout",
     "output_type": "stream",
     "text": [
      "0.97: Profile coverage of tdry\n"
     ]
    }
   ],
   "source": [
    "var = 'tdry'\n",
    "sampling_frequency = 2 # in hertz\n",
    "print(f'{profile.weighted_fullness(ds,var,sampling_frequency):.02f}: Profile coverage of {var}')"
   ]
  },
  {
   "attachments": {},
   "cell_type": "markdown",
   "metadata": {},
   "source": [
    "Now, that doesn't look too bad, does it? It's actually performing better than the `u_wind` variable, accounting for sensor sampling frequencies."
   ]
  },
  {
   "attachments": {},
   "cell_type": "markdown",
   "metadata": {},
   "source": [
    "Checking for some other variables now..."
   ]
  },
  {
   "cell_type": "code",
   "execution_count": 12,
   "metadata": {},
   "outputs": [
    {
     "name": "stdout",
     "output_type": "stream",
     "text": [
      "---\n",
      "0.44: Profile coverage of rh\n",
      "0.89: Weighted profile coverage of rh\n",
      "---\n",
      "0.93: Profile coverage of u_wind\n",
      "0.93: Weighted profile coverage of u_wind\n",
      "---\n",
      "0.48: Profile coverage of pres\n",
      "0.96: Weighted profile coverage of pres\n"
     ]
    }
   ],
   "source": [
    "vars = ['rh','u_wind','pres']\n",
    "freqs = (2,4,2)\n",
    "\n",
    "for var,freq in zip(vars,freqs):\n",
    "    print('---')\n",
    "    print(f'{profile.fullness(ds,var):.02f}: Profile coverage of {var}')\n",
    "    print(f'{profile.weighted_fullness(ds,var,freq):.02f}: Weighted profile coverage of {var}')"
   ]
  }
 ],
 "metadata": {
  "kernelspec": {
   "display_name": "Python 3",
   "language": "python",
   "name": "python3"
  },
  "language_info": {
   "codemirror_mode": {
    "name": "ipython",
    "version": 3
   },
   "file_extension": ".py",
   "mimetype": "text/x-python",
   "name": "python",
   "nbconvert_exporter": "python",
   "pygments_lexer": "ipython3",
   "version": "3.10.9"
  },
  "orig_nbformat": 4
 },
 "nbformat": 4,
 "nbformat_minor": 2
}
